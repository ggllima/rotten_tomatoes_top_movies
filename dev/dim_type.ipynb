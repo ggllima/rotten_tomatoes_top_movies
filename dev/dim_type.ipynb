{
 "cells": [
  {
   "cell_type": "code",
   "execution_count": 1,
   "id": "relative-pencil",
   "metadata": {},
   "outputs": [],
   "source": [
    "import os\n",
    "import sys\n",
    "module_path = os.path.abspath(os.path.join('..'))\n",
    "if module_path not in sys.path:\n",
    "    sys.path.append(module_path)\n",
    "import pandas as pd\n",
    "import numpy as np\n",
    "pd.set_option(\"display.max_column\", None)\n",
    "from datetime import datetime\n",
    "from libs import generation as gn"
   ]
  },
  {
   "cell_type": "code",
   "execution_count": 2,
   "id": "dedicated-bridges",
   "metadata": {},
   "outputs": [],
   "source": [
    "df_top_movies = gn.generation_df_movies('../data/rotten_tomatoes_top_movies.csv')"
   ]
  },
  {
   "cell_type": "code",
   "execution_count": 3,
   "id": "irish-parts",
   "metadata": {},
   "outputs": [],
   "source": [
    "dim_type = pd.DataFrame({'type':list(df_top_movies['type'].unique())})"
   ]
  },
  {
   "cell_type": "code",
   "execution_count": 4,
   "id": "international-cabinet",
   "metadata": {},
   "outputs": [],
   "source": [
    "dim_type['id'] = range(1, dim_type.index.stop+1)"
   ]
  },
  {
   "cell_type": "code",
   "execution_count": 5,
   "id": "warming-davis",
   "metadata": {},
   "outputs": [],
   "source": [
    "dim_type = dim_type[['id','type']]"
   ]
  }
 ],
 "metadata": {
  "kernelspec": {
   "display_name": "env_data",
   "language": "python",
   "name": "env_data"
  },
  "language_info": {
   "codemirror_mode": {
    "name": "ipython",
    "version": 3
   },
   "file_extension": ".py",
   "mimetype": "text/x-python",
   "name": "python",
   "nbconvert_exporter": "python",
   "pygments_lexer": "ipython3",
   "version": "3.8.5"
  }
 },
 "nbformat": 4,
 "nbformat_minor": 5
}
