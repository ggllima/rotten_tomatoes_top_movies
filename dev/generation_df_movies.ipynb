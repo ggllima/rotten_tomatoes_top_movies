{
 "cells": [
  {
   "cell_type": "code",
   "execution_count": null,
   "id": "romantic-programmer",
   "metadata": {},
   "outputs": [],
   "source": [
    "import pandas as pd\n",
    "import numpy as np\n",
    "pd.set_option(\"display.max_column\", None)\n",
    "from datetime import datetime"
   ]
  },
  {
   "cell_type": "code",
   "execution_count": 60,
   "id": "secure-aspect",
   "metadata": {
    "tags": []
   },
   "outputs": [],
   "source": [
    "df_top_movies = pd.read_csv('data/rotten_tomatoes_top_movies.csv', sep=',')"
   ]
  },
  {
   "cell_type": "code",
   "execution_count": 61,
   "id": "second-illustration",
   "metadata": {},
   "outputs": [],
   "source": [
    "df_top_movies.drop(columns=['Unnamed: 0', 'synopsis', 'consensus', 'rating', 'writer', 'sound_mix', 'crew', 'link', 'aspect_ratio', 'production_co', 'view_the_collection', 'producer', 'runtime'], inplace=True)"
   ]
  },
  {
   "cell_type": "code",
   "execution_count": 62,
   "id": "fleet-winning",
   "metadata": {},
   "outputs": [],
   "source": [
    "df_top_movies.rename(columns={'release_date_(theaters)':'release_date_theaters'},inplace=True)"
   ]
  },
  {
   "cell_type": "code",
   "execution_count": 63,
   "id": "vulnerable-employee",
   "metadata": {},
   "outputs": [],
   "source": [
    "df_top_movies['release_date_theaters'] = df_top_movies['release_date_theaters'].str.replace(' wide','',regex=True).replace(' limited','',regex=True).replace(',','', regex=True)"
   ]
  },
  {
   "cell_type": "code",
   "execution_count": 64,
   "id": "danish-brooklyn",
   "metadata": {},
   "outputs": [],
   "source": [
    "df_top_movies['release_date_theaters'] = pd.to_datetime(df_top_movies['release_date_theaters'],format='%b %d %Y')"
   ]
  },
  {
   "cell_type": "code",
   "execution_count": 65,
   "id": "technological-annual",
   "metadata": {},
   "outputs": [],
   "source": [
    "df_top_movies = df_top_movies[(df_top_movies['box_office_(gross_usa)'].notna()) & (df_top_movies['release_date_theaters'] > '2000-01-01')].copy()"
   ]
  },
  {
   "cell_type": "code",
   "execution_count": 66,
   "id": "loved-norway",
   "metadata": {},
   "outputs": [],
   "source": [
    "df_top_movies = df_top_movies[df_top_movies.duplicated(['title', 'year', 'critic_score', 'people_score', 'total_reviews',\n",
    "       'total_ratings', 'genre', 'original_language', 'director',\n",
    "       'release_date_theaters', 'release_date_(streaming)',\n",
    "       'box_office_(gross_usa)']) == True].reset_index(drop=True).copy()"
   ]
  },
  {
   "cell_type": "code",
   "execution_count": null,
   "id": "multiple-valentine",
   "metadata": {},
   "outputs": [],
   "source": []
  },
  {
   "cell_type": "code",
   "execution_count": null,
   "id": "chief-compatibility",
   "metadata": {},
   "outputs": [],
   "source": []
  }
 ],
 "metadata": {
  "kernelspec": {
   "display_name": "env_data",
   "language": "python",
   "name": "env_data"
  },
  "language_info": {
   "codemirror_mode": {
    "name": "ipython",
    "version": 3
   },
   "file_extension": ".py",
   "mimetype": "text/x-python",
   "name": "python",
   "nbconvert_exporter": "python",
   "pygments_lexer": "ipython3",
   "version": "3.8.5"
  }
 },
 "nbformat": 4,
 "nbformat_minor": 5
}
