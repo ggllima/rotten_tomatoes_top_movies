{
 "cells": [
  {
   "cell_type": "code",
   "execution_count": 1,
   "id": "frank-permit",
   "metadata": {},
   "outputs": [],
   "source": [
    "from libs import generation as gn\n",
    "from libs import models as md\n",
    "from libs import settings as st\n",
    "from libs import utils as ut\n",
    "\n",
    "import numpy as np\n",
    "\n",
    "import sqlalchemy as sa\n",
    "import pandas as pd\n",
    "import datetime as dt"
   ]
  },
  {
   "cell_type": "markdown",
   "id": "accomplished-florist",
   "metadata": {},
   "source": [
    "### Create table"
   ]
  },
  {
   "cell_type": "code",
   "execution_count": null,
   "id": "accessory-minister",
   "metadata": {},
   "outputs": [],
   "source": [
    "conn = st.conn_test\n",
    "\n",
    "md.Base.metadata.create_all(conn)"
   ]
  },
  {
   "cell_type": "markdown",
   "id": "preliminary-prayer",
   "metadata": {},
   "source": [
    "### Data insertion"
   ]
  },
  {
   "cell_type": "code",
   "execution_count": null,
   "id": "engaged-replication",
   "metadata": {},
   "outputs": [],
   "source": []
  },
  {
   "cell_type": "markdown",
   "id": "careful-korean",
   "metadata": {},
   "source": [
    "### Genre base"
   ]
  },
  {
   "cell_type": "markdown",
   "id": "aggressive-spelling",
   "metadata": {},
   "source": [
    "### Director base"
   ]
  },
  {
   "cell_type": "markdown",
   "id": "curious-mitchell",
   "metadata": {},
   "source": [
    "### Title base"
   ]
  },
  {
   "cell_type": "markdown",
   "id": "eastern-onion",
   "metadata": {},
   "source": [
    "### Language base"
   ]
  },
  {
   "cell_type": "markdown",
   "id": "overall-letter",
   "metadata": {},
   "source": [
    "### Date base"
   ]
  },
  {
   "cell_type": "markdown",
   "id": "animated-warehouse",
   "metadata": {},
   "source": [
    "### Movies_Genre base"
   ]
  },
  {
   "cell_type": "markdown",
   "id": "seasonal-collins",
   "metadata": {},
   "source": [
    "### Movies_Director base"
   ]
  },
  {
   "cell_type": "markdown",
   "id": "floppy-cosmetic",
   "metadata": {},
   "source": [
    "### Raking_Movies base"
   ]
  },
  {
   "cell_type": "code",
   "execution_count": null,
   "id": "hearing-independence",
   "metadata": {},
   "outputs": [],
   "source": []
  }
 ],
 "metadata": {
  "kernelspec": {
   "display_name": "env_data",
   "language": "python",
   "name": "env_data"
  },
  "language_info": {
   "codemirror_mode": {
    "name": "ipython",
    "version": 3
   },
   "file_extension": ".py",
   "mimetype": "text/x-python",
   "name": "python",
   "nbconvert_exporter": "python",
   "pygments_lexer": "ipython3",
   "version": "3.8.5"
  }
 },
 "nbformat": 4,
 "nbformat_minor": 5
}
