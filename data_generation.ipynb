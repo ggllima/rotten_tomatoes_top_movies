{
 "cells": [
  {
   "cell_type": "code",
   "execution_count": 1,
   "id": "green-outline",
   "metadata": {},
   "outputs": [],
   "source": [
    "from libs import generation as gn\n",
    "from libs import models as md\n",
    "from libs import settings as st\n",
    "from libs import utils as ut\n",
    "\n",
    "import numpy as np\n",
    "\n",
    "import sqlalchemy as sa\n",
    "import pandas as pd\n",
    "import datetime as dt"
   ]
  },
  {
   "cell_type": "code",
   "execution_count": 23,
   "id": "quiet-hampshire",
   "metadata": {},
   "outputs": [
    {
     "data": {
      "text/plain": [
       "96.0"
      ]
     },
     "execution_count": 23,
     "metadata": {},
     "output_type": "execute_result"
    }
   ],
   "source": [
    "lara+guilherme+bia"
   ]
  },
  {
   "cell_type": "markdown",
   "id": "occasional-cloud",
   "metadata": {},
   "source": [
    "### Create table"
   ]
  },
  {
   "cell_type": "code",
   "execution_count": null,
   "id": "marked-tamil",
   "metadata": {},
   "outputs": [],
   "source": []
  },
  {
   "cell_type": "markdown",
   "id": "meaning-turtle",
   "metadata": {},
   "source": [
    "### Data insertion"
   ]
  },
  {
   "cell_type": "code",
   "execution_count": null,
   "id": "structured-miracle",
   "metadata": {},
   "outputs": [],
   "source": []
  },
  {
   "cell_type": "markdown",
   "id": "attempted-capture",
   "metadata": {},
   "source": [
    "### Genre base"
   ]
  },
  {
   "cell_type": "markdown",
   "id": "hungry-authorization",
   "metadata": {},
   "source": [
    "### Director base"
   ]
  },
  {
   "cell_type": "markdown",
   "id": "forty-congo",
   "metadata": {},
   "source": [
    "### Title base"
   ]
  },
  {
   "cell_type": "markdown",
   "id": "rubber-boutique",
   "metadata": {},
   "source": [
    "### Language base"
   ]
  },
  {
   "cell_type": "markdown",
   "id": "casual-uruguay",
   "metadata": {},
   "source": [
    "### Date base"
   ]
  },
  {
   "cell_type": "markdown",
   "id": "structural-marine",
   "metadata": {},
   "source": [
    "### Movies_Genre base"
   ]
  },
  {
   "cell_type": "markdown",
   "id": "facial-warrior",
   "metadata": {},
   "source": [
    "### Movies_Director base"
   ]
  },
  {
   "cell_type": "markdown",
   "id": "medium-bobby",
   "metadata": {},
   "source": [
    "### Raking_Movies base"
   ]
  },
  {
   "cell_type": "code",
   "execution_count": null,
   "id": "forty-router",
   "metadata": {},
   "outputs": [],
   "source": []
  }
 ],
 "metadata": {
  "kernelspec": {
   "display_name": "env_data",
   "language": "python",
   "name": "env_data"
  },
  "language_info": {
   "codemirror_mode": {
    "name": "ipython",
    "version": 3
   },
   "file_extension": ".py",
   "mimetype": "text/x-python",
   "name": "python",
   "nbconvert_exporter": "python",
   "pygments_lexer": "ipython3",
   "version": "3.8.5"
  }
 },
 "nbformat": 4,
 "nbformat_minor": 5
}
