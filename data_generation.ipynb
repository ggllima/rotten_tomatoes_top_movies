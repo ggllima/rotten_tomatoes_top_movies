{
 "cells": [
  {
   "cell_type": "code",
   "execution_count": 1,
   "id": "advisory-karma",
   "metadata": {},
   "outputs": [],
   "source": [
    "from libs import generation as gn\n",
    "from libs import models as md\n",
    "from libs import settings as st\n",
    "from libs import utils as ut\n",
    "from django.db import IntegrityError\n",
    "import re\n",
    "import numpy as np\n",
    "\n",
    "import sqlalchemy as sa\n",
    "from sqlalchemy import text\n",
    "import pandas as pd\n",
    "import datetime as dt\n",
    "from sqlalchemy import inspect"
   ]
  },
  {
   "cell_type": "markdown",
   "id": "novel-edmonton",
   "metadata": {},
   "source": [
    "### Create table"
   ]
  },
  {
   "cell_type": "code",
   "execution_count": 2,
   "id": "listed-plenty",
   "metadata": {},
   "outputs": [],
   "source": [
    "inspector = inspect(st.conn_rotten_engine)\n",
    "conn = st.conn_rotten_engine.connect()\n",
    "if len(inspector.get_table_names()):\n",
    "    md.Base.metadata.create_all(st.conn_rotten_engine)"
   ]
  },
  {
   "cell_type": "markdown",
   "id": "boxed-finland",
   "metadata": {},
   "source": [
    "### Data insertion"
   ]
  },
  {
   "cell_type": "markdown",
   "id": "unlikely-poker",
   "metadata": {},
   "source": [
    "#### Genre base"
   ]
  },
  {
   "cell_type": "code",
   "execution_count": 3,
   "id": "better-diversity",
   "metadata": {},
   "outputs": [],
   "source": [
    "df_genre = gn.dim_genre()\n",
    "ut.send_data(df_genre, st.conn_rotten_engine, 'dim_genre', 'dbo', True)"
   ]
  },
  {
   "cell_type": "markdown",
   "id": "empirical-acoustic",
   "metadata": {},
   "source": [
    "### Director base"
   ]
  },
  {
   "cell_type": "code",
   "execution_count": 4,
   "id": "reliable-virginia",
   "metadata": {},
   "outputs": [],
   "source": [
    "df_director = gn.dim_director()\n",
    "ut.send_data(df_director, st.conn_rotten_engine, 'dim_director', 'dbo', True)"
   ]
  },
  {
   "cell_type": "markdown",
   "id": "protective-suggestion",
   "metadata": {},
   "source": [
    "### Title base"
   ]
  },
  {
   "cell_type": "code",
   "execution_count": 24,
   "id": "advisory-boating",
   "metadata": {},
   "outputs": [],
   "source": [
    "df_title = gn.dim_title()\n",
    "ut.send_data(df_title, st.conn_rotten_engine, 'dim_title', 'dbo')"
   ]
  },
  {
   "cell_type": "markdown",
   "id": "instant-shooting",
   "metadata": {},
   "source": [
    "### Language base"
   ]
  },
  {
   "cell_type": "code",
   "execution_count": 5,
   "id": "asian-queensland",
   "metadata": {},
   "outputs": [],
   "source": [
    "df_language = gn.dim_language()\n",
    "ut.send_data(df_language, st.conn_rotten_engine, 'dim_language', 'dbo')"
   ]
  },
  {
   "cell_type": "markdown",
   "id": "allied-transfer",
   "metadata": {},
   "source": [
    "### Date base"
   ]
  },
  {
   "cell_type": "code",
   "execution_count": 3,
   "id": "anonymous-oregon",
   "metadata": {},
   "outputs": [],
   "source": [
    "start_date = ''.join(str(gn.generation_df_movies()['release_date_theaters'].min()).split(' ')[0])\n",
    "end_date = ''.join(str(gn.generation_df_movies()['release_date_theaters'].max()).split(' ')[0])\n",
    "\n",
    "df_date = gn.dim_date(start_date, end_date)\n",
    "\n",
    "ut.send_data(df_date, st.conn_rotten_engine, 'dim_date', 'dbo')"
   ]
  },
  {
   "cell_type": "markdown",
   "id": "smaller-spectrum",
   "metadata": {},
   "source": [
    "### Movies_Genre base"
   ]
  },
  {
   "cell_type": "markdown",
   "id": "exact-inspector",
   "metadata": {},
   "source": [
    "### Movies_Director base"
   ]
  },
  {
   "cell_type": "markdown",
   "id": "ongoing-balance",
   "metadata": {},
   "source": [
    "### Raking_Movies base"
   ]
  },
  {
   "cell_type": "code",
   "execution_count": null,
   "id": "signed-acquisition",
   "metadata": {},
   "outputs": [],
   "source": []
  }
 ],
 "metadata": {
  "kernelspec": {
   "display_name": "env_data",
   "language": "python",
   "name": "env_data"
  },
  "language_info": {
   "codemirror_mode": {
    "name": "ipython",
    "version": 3
   },
   "file_extension": ".py",
   "mimetype": "text/x-python",
   "name": "python",
   "nbconvert_exporter": "python",
   "pygments_lexer": "ipython3",
   "version": "3.8.5"
  }
 },
 "nbformat": 4,
 "nbformat_minor": 5
}
