{
 "cells": [
  {
   "cell_type": "code",
   "execution_count": 1,
   "id": "crucial-milan",
   "metadata": {},
   "outputs": [],
   "source": [
    "from libs import generation as gn\n",
    "from libs import models as md\n",
    "from libs import settings as st\n",
    "\n",
    "from libs import utils as ut\n",
    "from django.db import IntegrityError\n",
    "import re\n",
    "import numpy as np\n",
    "\n",
    "import sqlalchemy as sa\n",
    "from sqlalchemy import text\n",
    "import pandas as pd\n",
    "import datetime as dt\n",
    "from sqlalchemy import inspect\n",
    "\n",
    "path='data/rotten_tomatoes_top_movies.csv'"
   ]
  },
  {
   "cell_type": "markdown",
   "id": "familiar-modern",
   "metadata": {},
   "source": [
    "### Create table"
   ]
  },
  {
   "cell_type": "code",
   "execution_count": 2,
   "id": "suspended-discrimination",
   "metadata": {},
   "outputs": [],
   "source": [
    "inspector = inspect(st.conn_rotten_engine)\n",
    "conn = st.conn_rotten_engine.connect()\n",
    "if len(inspector.get_table_names()):\n",
    "    md.Base.metadata.create_all(st.conn_rotten_engine)"
   ]
  },
  {
   "cell_type": "markdown",
   "id": "turkish-chase",
   "metadata": {},
   "source": [
    "### Data insertion"
   ]
  },
  {
   "cell_type": "markdown",
   "id": "ahead-paraguay",
   "metadata": {},
   "source": [
    "#### Genre base"
   ]
  },
  {
   "cell_type": "code",
   "execution_count": 3,
   "id": "cloudy-wheat",
   "metadata": {},
   "outputs": [],
   "source": [
    "df_genre = gn.dim_genre(path)\n",
    "# ut.send_data(df_genre, st.conn_rotten_engine, 'dim_genre', 'dbo', True)"
   ]
  },
  {
   "cell_type": "markdown",
   "id": "violent-serbia",
   "metadata": {},
   "source": [
    "### Director base"
   ]
  },
  {
   "cell_type": "code",
   "execution_count": 4,
   "id": "appreciated-begin",
   "metadata": {},
   "outputs": [],
   "source": [
    "df_director = gn.dim_director(path)\n",
    "# ut.send_data(df_director, st.conn_rotten_engine, 'dim_director', 'dbo', True)"
   ]
  },
  {
   "cell_type": "markdown",
   "id": "renewable-stereo",
   "metadata": {},
   "source": [
    "### Title base"
   ]
  },
  {
   "cell_type": "code",
   "execution_count": 5,
   "id": "fewer-possession",
   "metadata": {},
   "outputs": [],
   "source": [
    "df_title = gn.dim_title(path)\n",
    "# ut.send_data(df_title, st.conn_rotten_engine, 'dim_title', 'dbo')"
   ]
  },
  {
   "cell_type": "markdown",
   "id": "inner-weekend",
   "metadata": {},
   "source": [
    "### Language base"
   ]
  },
  {
   "cell_type": "code",
   "execution_count": 6,
   "id": "median-immune",
   "metadata": {},
   "outputs": [],
   "source": [
    "df_language = gn.dim_language(path)\n",
    "# ut.send_data(df_language, st.conn_rotten_engine, 'dim_language', 'dbo')"
   ]
  },
  {
   "cell_type": "markdown",
   "id": "geological-spider",
   "metadata": {},
   "source": [
    "### Date base"
   ]
  },
  {
   "cell_type": "code",
   "execution_count": 7,
   "id": "horizontal-rating",
   "metadata": {},
   "outputs": [],
   "source": [
    "start_date = ''.join(str(gn.generation_df_movies(path)['release_date_theaters'].min()).split(' ')[0])\n",
    "end_date = ''.join(str(gn.generation_df_movies(path)['release_date_theaters'].max()).split(' ')[0])\n",
    "\n",
    "df_date = gn.dim_date(start_date, end_date)\n",
    "\n",
    "# ut.send_data(df_date, st.conn_rotten_engine, 'dim_date', 'dbo')"
   ]
  },
  {
   "cell_type": "markdown",
   "id": "rocky-maker",
   "metadata": {},
   "source": [
    "### Raking_Movies base"
   ]
  },
  {
   "cell_type": "code",
   "execution_count": 8,
   "id": "written-relations",
   "metadata": {},
   "outputs": [],
   "source": [
    "df_fact = gn.generation_df_movies(path, rel_columns=False)\n",
    "\n",
    "df_fact = ut.create_foreing_key(df_fact, df_language, 'language','inner')\n",
    "df_fact = ut.create_foreing_key(df_fact, df_title, 'title','inner')\n",
    "\n",
    "df_fact.rename(columns={'release_date_theaters':\"date_value\"},inplace=True)\n",
    "df_fact = pd.merge(df_fact, df_date, how='inner', on='date_value')\n",
    "df_fact.drop(columns=['nk_date',\t'year',\t'month', 'day', 'date_value'],inplace=True)\n",
    "df_fact.rename(columns={'id_x':'id','id_y':'release_date_theaters_id'},inplace=True)\n",
    "\n",
    "df_fact.rename(columns={'release_date_streaming':\"date_value\"},inplace=True)\n",
    "df_fact = pd.merge(df_fact, df_date, how='inner', on='date_value')\n",
    "df_fact.drop(columns=['nk_date',\t'year',\t'month', 'day','date_value'],inplace=True)\n",
    "df_fact.rename(columns={'id_x':'id','id_y':'release_date_streaming_id'},inplace=True)\n"
   ]
  },
  {
   "cell_type": "markdown",
   "id": "bottom-prince",
   "metadata": {},
   "source": [
    "#### Movies_Genre base"
   ]
  },
  {
   "cell_type": "code",
   "execution_count": 11,
   "id": "unknown-carry",
   "metadata": {},
   "outputs": [],
   "source": [
    "df_rel_movies_genre = gn.rel_movies_genre(df_genre, df_fact)\n",
    "df_rel_movies_genre = df_rel_movies_genre[['genre_id','id']].reset_index(drop=True)\n",
    "ut.send_data(df_rel_movies_genre, st.conn_rotten_engine, 'rel_movies_genre', 'dbo')"
   ]
  },
  {
   "cell_type": "markdown",
   "id": "smoking-thirty",
   "metadata": {},
   "source": [
    "#### Movies_Director base"
   ]
  },
  {
   "cell_type": "code",
   "execution_count": 13,
   "id": "exceptional-audio",
   "metadata": {},
   "outputs": [],
   "source": [
    "df_rel_movies_director = gn.rel_movies_director(df_director, df_fact)\n",
    "df_rel_movies_director = df_rel_movies_director[['director_id','id']].reset_index(drop=True)\n",
    "ut.send_data(df_rel_movies_director, st.conn_rotten_engine, 'rel_movies_director', 'dbo')"
   ]
  },
  {
   "cell_type": "code",
   "execution_count": 14,
   "id": "fossil-chemistry",
   "metadata": {},
   "outputs": [],
   "source": [
    "df_fact.drop(columns=['genre','director'],inplace=True)\n",
    "\n",
    "ut.send_data(df_fact, st.conn_rotten_engine, 'fact_ranking_movie', 'dbo', True)"
   ]
  },
  {
   "cell_type": "code",
   "execution_count": null,
   "id": "indian-snapshot",
   "metadata": {},
   "outputs": [],
   "source": []
  }
 ],
 "metadata": {
  "kernelspec": {
   "display_name": "env_data",
   "language": "python",
   "name": "env_data"
  },
  "language_info": {
   "codemirror_mode": {
    "name": "ipython",
    "version": 3
   },
   "file_extension": ".py",
   "mimetype": "text/x-python",
   "name": "python",
   "nbconvert_exporter": "python",
   "pygments_lexer": "ipython3",
   "version": "3.8.5"
  }
 },
 "nbformat": 4,
 "nbformat_minor": 5
}
